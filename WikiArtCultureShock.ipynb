{
  "nbformat": 4,
  "nbformat_minor": 0,
  "metadata": {
    "colab": {
      "name": "WikiArtCultureShock",
      "provenance": [],
      "private_outputs": true,
      "collapsed_sections": [],
      "toc_visible": true,
      "include_colab_link": true
    },
    "kernelspec": {
      "name": "python3",
      "display_name": "Python 3"
    },
    "accelerator": "GPU"
  },
  "cells": [
    {
      "cell_type": "markdown",
      "metadata": {
        "id": "view-in-github",
        "colab_type": "text"
      },
      "source": [
        "<a href=\"https://colab.research.google.com/github/Norod/my-colab-experiments/blob/master/WikiArtCultureShock.ipynb\" target=\"_parent\"><img src=\"https://colab.research.google.com/assets/colab-badge.svg\" alt=\"Open In Colab\"/></a>"
      ]
    },
    {
      "cell_type": "code",
      "metadata": {
        "id": "oe9RUPoJQO1O",
        "colab_type": "code",
        "colab": {}
      },
      "source": [
        "########################################################################\n",
        "#\n",
        "#     WikiArtCultureShock - A meshup of existing resources for your\n",
        "#                             audiovisual pleasure. \n",
        "#\n",
        "#     The original culture shock code\n",
        "#     https://gist.github.com/rolux/48f1da6cf2bc6ca5833dbacbf852b348\n",
        "#\n",
        "#     The original WikiArt StyleGAN2 repo\n",
        "#     https://github.com/pbaylies/stylegan2\n",
        "#\n",
        "#     The original Royalty Free Music from Bensound\n",
        "#     https://www.bensound.com/royalty-free-music/track/pop-dance\n",
        "#\n",
        "#     Gathered and assembled into a Colab Notebook by Doron Adler\n",
        "#     @norod78\n",
        "#\n",
        "########################################################################"
      ],
      "execution_count": 0,
      "outputs": []
    },
    {
      "cell_type": "code",
      "metadata": {
        "id": "PzDuIoMcqfBT",
        "colab_type": "code",
        "colab": {}
      },
      "source": [
        "%tensorflow_version 1.x\n",
        "import tensorflow as tf\n",
        "\n",
        "%cd /content/\n",
        "\n",
        "!git clone https://github.com/NVlabs/stylegan2\n",
        "%cd stylegan2\n",
        "\n",
        "!nvcc test_nvcc.cu -o test_nvcc -run\n",
        "\n",
        "print('Tensorflow version: {}'.format(tf.__version__) )\n",
        "!nvidia-smi -L\n",
        "print('GPU Identified at: {}'.format(tf.test.gpu_device_name()))"
      ],
      "execution_count": 0,
      "outputs": []
    },
    {
      "cell_type": "code",
      "metadata": {
        "id": "cwVXBFaSuoIU",
        "colab_type": "code",
        "colab": {}
      },
      "source": [
        "# Download the model of choice\n",
        "import os\n",
        "import numpy as np\n",
        "from scipy.interpolate import interp1d\n",
        "from scipy.io import wavfile\n",
        "import matplotlib.pyplot as plt\n",
        "import moviepy.editor\n",
        "import dnnlib\n",
        "import dnnlib.tflib as tflib\n",
        "import pretrained_networks\n",
        "import argparse\n",
        "import PIL.Image\n",
        "import re\n",
        "import sys\n",
        "from io import BytesIO\n",
        "import IPython.display\n",
        "import numpy as np\n",
        "from math import ceil\n",
        "from PIL import Image, ImageDraw\n",
        "import imageio\n",
        "import pretrained_networks\n",
        "#network_pkl = \"gdrive:networks/stylegan2-ffhq-config-f.pkl\"\n",
        "\n",
        "network_pkl = 'https://archive.org/download/wikiart-stylegan2-conditional-model/network-snapshot-006746.pkl'\n",
        "\n",
        "print('Loading networks from \"%s\"...' % network_pkl)\n",
        "\n",
        "_G, _D, Gs = pretrained_networks.load_networks(network_pkl)\n",
        "\n",
        "Gs_kwargs = dnnlib.EasyDict()\n",
        "Gs_kwargs.output_transform = dict(func=tflib.convert_images_to_uint8, nchw_to_nhwc=True)\n",
        "Gs_kwargs.randomize_noise = False\n",
        "Gs_syn_kwargs = dnnlib.EasyDict()\n",
        "Gs_syn_kwargs.output_transform = dict(func=tflib.convert_images_to_uint8, nchw_to_nhwc=True)\n",
        "Gs_syn_kwargs.randomize_noise = False\n",
        "Gs_syn_kwargs.minibatch_size = 4\n",
        "noise_vars = [var for name, var in Gs.components.synthesis.vars.items() if name.startswith('noise')]\n",
        "w_avg = Gs.get_var('dlatent_avg')\n",
        "\n",
        "def get_ws(n, frames, seed):\n",
        "    filename = f'data/ws_{n}_{frames}_{seed}.npy'\n",
        "    if not os.path.exists(filename):\n",
        "        src_ws = np.random.RandomState(seed).randn(n, 512)\n",
        "        ws = np.empty((frames, 512))\n",
        "        for i in range(512):\n",
        "            # FIXME: retarded\n",
        "            x = np.linspace(0, 3*frames, 3*len(src_ws), endpoint=False)\n",
        "            y = np.tile(src_ws[:, i], 3)\n",
        "            x_ = np.linspace(0, 3*frames, 3*frames, endpoint=False)\n",
        "            y_ = interp1d(x, y, kind='quadratic', fill_value='extrapolate')(x_)\n",
        "            ws[:, i] = y_[frames:2*frames]\n",
        "        np.save(filename, ws)\n",
        "    else:\n",
        "        ws = np.load(filename)\n",
        "    return ws\n",
        "\n",
        "def mix_styles(wa, wb, ivs):\n",
        "    w = np.copy(wa)\n",
        "    for i, v in ivs:\n",
        "        w[i] = wa[i] * (1 - v) + wb[i] * v\n",
        "    return w\n",
        "\n",
        "def normalize_vector(v):\n",
        "    return v * np.std(w_avg) / np.std(v) + np.mean(w_avg) - np.mean(v)\n",
        "\n",
        "def render_frame(t):\n",
        "    global base_index\n",
        "    frame = np.clip(np.int(np.round(t * fps)), 0, frames - 1)\n",
        "    base_index += base_speed * audio['accompaniment'][frame]**2\n",
        "    base_w = base_ws[int(round(base_index)) % len(base_ws)]\n",
        "    base_w = np.tile(base_w, (18, 1))\n",
        "    psi = 0.5 + audio['drums'][frame] / 4\n",
        "    base_w = w_avg + (base_w - w_avg) * psi\n",
        "    mix_w = np.tile(mix_ws[frame], (18, 1))\n",
        "    mix_w = w_avg + (mix_w - w_avg) * 0.75\n",
        "    ranges = [range(0, 4), range(4, 8), range(8, 18)]\n",
        "    values = [audio[track][frame] for track in ['fx', 'fx', 'fx']]\n",
        "    #values = [0,-1,1,0,2,1]\n",
        "    w = mix_styles(base_w, mix_w, zip(ranges, values))\n",
        "    w += mouth_open * audio['vocals'][frame] * 1.5\n",
        "    image = Gs.components.synthesis.run(np.stack([w]), **Gs_syn_kwargs)[0]\n",
        "    image = PIL.Image.fromarray(image).resize((size, size), PIL.Image.LANCZOS)\n",
        "    return np.array(image)"
      ],
      "execution_count": 0,
      "outputs": []
    },
    {
      "cell_type": "code",
      "metadata": {
        "id": "9D-_SwIF9lZz",
        "colab_type": "code",
        "colab": {}
      },
      "source": [
        "!mkdir data\n",
        "!wget https://rolux.org/media/stylegan2/vectors/mouth_ratio.npy -O ./data/mouth_ratio.npy"
      ],
      "execution_count": 0,
      "outputs": []
    },
    {
      "cell_type": "code",
      "metadata": {
        "id": "qNgdcvqf2pNI",
        "colab_type": "code",
        "colab": {}
      },
      "source": [
        "!wget https://norod78.s3-eu-west-1.amazonaws.com/WikiArtCultureShock/bensound_popdance_audio.zip\n",
        "!unzip -n -j ./bensound_popdance_audio.zip -d ./tmp"
      ],
      "execution_count": 0,
      "outputs": []
    },
    {
      "cell_type": "code",
      "metadata": {
        "id": "_ROZQf8_3JFX",
        "colab_type": "code",
        "colab": {}
      },
      "source": [
        "!mv ./tmp/bensound-popdance_other.mp3 ./data/accompaniment.mp3\n",
        "!mv ./tmp/bensound-popdance_vocals.mp3  ./data/vocals.mp3\n",
        "!mv ./tmp/bensound-popdance_drums.mp3 ./data/drums.mp3\n",
        "!mv ./tmp/bensound-popdance_bass.mp3  ./data/fx.mp3\n",
        "!mv ./tmp/bensound-popdance_all.mp3 ./data/all.mp3"
      ],
      "execution_count": 0,
      "outputs": []
    },
    {
      "cell_type": "code",
      "metadata": {
        "id": "vb3TTUHw9RHh",
        "colab_type": "code",
        "colab": {}
      },
      "source": [
        "\n",
        "audio = {}\n",
        "fps = 60\n",
        "\n",
        "for mp3_filename in [f for f in os.listdir('data') if f.endswith('.mp3')]:\n",
        "    mp3_filename = f'data/{mp3_filename}'\n",
        "    wav_filename = mp3_filename[:-4] + '.wav'\n",
        "    if not os.path.exists(wav_filename):\n",
        "        audio_clip = moviepy.editor.AudioFileClip(mp3_filename)\n",
        "        audio_clip.write_audiofile(wav_filename, fps=44100, nbytes=2, codec='pcm_s16le')\n",
        "    track_name = os.path.basename(wav_filename)[:-4]\n",
        "    print(\"track_name = \" + str(track_name))\n",
        "    rate, signal = wavfile.read(wav_filename)\n",
        "    signal = np.mean(signal, axis=1) # to mono\n",
        "    signal = np.abs(signal)\n",
        "    abitofrandomforseed = np.random.randint(10, size=1)\n",
        "    seed = signal.shape[0] + abitofrandomforseed[0]\n",
        "    duration = signal.shape[0] / rate\n",
        "    frames = int(np.ceil(duration * fps))\n",
        "    samples_per_frame = signal.shape[0] / frames\n",
        "    audio[track_name] = np.zeros(frames, dtype=signal.dtype)\n",
        "    for frame in range(frames):\n",
        "        start = int(round(frame * samples_per_frame))\n",
        "        stop = int(round((frame + 1) * samples_per_frame))\n",
        "        audio[track_name][frame] = np.mean(signal[start:stop], axis=0)\n",
        "    audio[track_name] /= max(audio[track_name])\n",
        "\n",
        "for track in sorted(audio.keys()):\n",
        "    plt.figure(figsize=(8, 3))\n",
        "    plt.title(track)\n",
        "    plt.plot(audio[track])\n",
        "    plt.savefig(f'data/{track}.png')"
      ],
      "execution_count": 0,
      "outputs": []
    },
    {
      "cell_type": "code",
      "metadata": {
        "id": "ywdsAPuv_6DC",
        "colab_type": "code",
        "colab": {}
      },
      "source": [
        "print(audio)"
      ],
      "execution_count": 0,
      "outputs": []
    },
    {
      "cell_type": "code",
      "metadata": {
        "id": "wg85Nl7094qp",
        "colab_type": "code",
        "colab": {}
      },
      "source": [
        "size = 1080\n",
        "#duration = 20 #If you prefer to test with a shorter *video* duration than the song's length\n",
        "seconds = int(np.ceil(duration))\n",
        "resolution = 10\n",
        "base_frames = resolution * frames\n",
        "base_ws = get_ws(seconds, base_frames, seed)\n",
        "base_speed = base_frames / sum(audio['accompaniment']**2)\n",
        "base_index = 0\n",
        "mix_ws = get_ws(seconds, frames, seed + 1)\n",
        "# https://rolux.org/media/stylegan2/vectors/mouth_ratio.npy\n",
        "mouth_open = normalize_vector(-np.load('data/mouth_ratio.npy'))\n",
        "\n",
        "mp4_filename = 'data/WikiArtCultureShock-bensound_popdance.mp4'\n",
        "video_clip = moviepy.editor.VideoClip(render_frame, duration=duration)\n",
        "audio_clip = moviepy.editor.AudioFileClip('data/all.wav')\n",
        "video_clip = video_clip.set_audio(audio_clip)\n",
        "video_clip.write_videofile(mp4_filename, fps=fps, codec='libx264', audio_codec='aac', bitrate='8M')\n"
      ],
      "execution_count": 0,
      "outputs": []
    },
    {
      "cell_type": "code",
      "metadata": {
        "id": "t0H9EaMQkWb5",
        "colab_type": "code",
        "colab": {}
      },
      "source": [
        "from IPython import display as ipythondisplay\n",
        "import io\n",
        "import os\n",
        "import base64\n",
        "from IPython.display import HTML\n",
        "\n",
        "def show_video(vid):\n",
        "  ext = os.path.splitext(vid)[-1][1:]\n",
        "  video = io.open(vid, 'r+b').read()\n",
        "  ipythondisplay.display(HTML(data='''<BR> Royalty Free Music from Bensound <BR><video alt=\"WikiArtCultureShock\" autoplay \n",
        "              loop controls style=\"height: 512px;\">\n",
        "              <source src=\"data:video/{1}';base64,{0}\" type=\"video/{1}\" />\n",
        "              </video>'''.format(base64.b64encode(video).decode('ascii'), ext)))"
      ],
      "execution_count": 0,
      "outputs": []
    },
    {
      "cell_type": "code",
      "metadata": {
        "id": "DvwkIkaUz9jg",
        "colab_type": "code",
        "colab": {}
      },
      "source": [
        "show_video(mp4_filename)"
      ],
      "execution_count": 0,
      "outputs": []
    }
  ]
}